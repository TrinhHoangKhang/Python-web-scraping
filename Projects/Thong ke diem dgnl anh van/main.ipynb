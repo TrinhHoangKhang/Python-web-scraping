{
 "cells": [
  {
   "cell_type": "code",
   "execution_count": 32,
   "metadata": {},
   "outputs": [],
   "source": [
    "from selenium import webdriver\n",
    "from selenium.webdriver.common.by import By\n",
    "from selenium.webdriver.common.keys import Keys\n",
    "from selenium.webdriver.support.ui import WebDriverWait\n",
    "from selenium.webdriver.support import expected_conditions as EC\n",
    "import pandas as pd\n",
    "import matplotlib.pyplot as plt"
   ]
  },
  {
   "cell_type": "markdown",
   "metadata": {},
   "source": [
    "### Scrape the data"
   ]
  },
  {
   "cell_type": "code",
   "execution_count": null,
   "metadata": {},
   "outputs": [],
   "source": [
    "result_page_link = 'https://lookerstudio.google.com/u/0/reporting/8a499258-1e5c-427c-810b-dce0fa1a2e03/page/KCCDE'\n",
    "id_list_link = 'https://cfl.hcmus.edu.vn/vi/thong-bao-nhan-giay-bao-du-thi-ky-thi-dgnl-tieng-anh-ngay-thi-08-09-2024'\n",
    "\n",
    "def get_all_id():\n",
    "    driver = webdriver.Chrome()\n",
    "    driver.get(id_list_link)\n",
    "\n",
    "    id_list = []\n",
    "    table = driver.find_element(By.CSS_SELECTOR, 'table')\n",
    "    rows = table.find_elements(By.CSS_SELECTOR, 'tr')\n",
    "    for row in rows[1:]:\n",
    "        columns = row.find_elements(By.CSS_SELECTOR, 'td')\n",
    "        id = columns[1].text\n",
    "        id_list.append(id)\n",
    "\n",
    "    return id_list\n",
    "    \n",
    "def get_all_score(ids):\n",
    "    driver = webdriver.Chrome()\n",
    "    driver.get(result_page_link)\n",
    "\n",
    "    results = []\n",
    "    for id in ids:\n",
    "        result = get_score_by_id(id, driver)\n",
    "        print(result)\n",
    "        results.append(result)\n",
    "\n",
    "    return results\n",
    "\n",
    "def get_score_by_id(id, driver):\n",
    "    try:        \n",
    "        driver.refresh()\n",
    "        # Wait and submit the ID\n",
    "        wait = WebDriverWait(driver, 10)\n",
    "        mssv_button = wait.until(EC.presence_of_element_located((By.ID, 'input_1')))\n",
    "        mssv_button.clear()\n",
    "        mssv_button.send_keys(id)\n",
    "        mssv_button.send_keys(Keys.ENTER)\n",
    "\n",
    "        # Get the student name\n",
    "        driver.switch_to.default_content()\n",
    "        iframe = wait.until(EC.presence_of_element_located((By.CSS_SELECTOR, 'iframe[component-id=\"cd-ez0xqukfld\"]')))\n",
    "        driver.switch_to.frame(iframe)\n",
    "        iframe = wait.until(EC.presence_of_element_located((By.CSS_SELECTOR, 'iframe[id=\"viz-loader\"]')))\n",
    "        driver.switch_to.frame(iframe)\n",
    "\n",
    "        student_name = wait.until(EC.presence_of_element_located((By.XPATH, '//h2[contains(text(), \"Họ tên\")]/span'))).text\n",
    "\n",
    "        # Get the score\n",
    "        driver.switch_to.default_content()\n",
    "        iframe = wait.until(EC.presence_of_element_located((By.CSS_SELECTOR, 'iframe[component-id=\"cd-vvadb6kfld\"]')))\n",
    "        driver.switch_to.frame(iframe)\n",
    "        iframe = wait.until(EC.presence_of_element_located((By.CSS_SELECTOR, 'iframe[id=\"viz-loader\"]')))\n",
    "        driver.switch_to.frame(iframe)\n",
    "\n",
    "        score_board = wait.until(EC.presence_of_element_located((By.CSS_SELECTOR, '.mdc-card-content')))\n",
    "\n",
    "        listening = score_board.find_element(By.XPATH, '//h2[contains(text(), \"Nghe\")]/span').text\n",
    "        speaking = score_board.find_element(By.XPATH, '//h2[contains(text(), \"Nói\")]/span').text\n",
    "        reading = score_board.find_element(By.XPATH, '//h2[contains(text(), \"Đọc\")]/span').text\n",
    "        writing = score_board.find_element(By.XPATH, '//h2[contains(text(), \"Viết\")]/span').text\n",
    "        total = score_board.find_element(By.XPATH, '//h2[contains(text(), \"Tổng\")]/span').text\n",
    "\n",
    "        return [student_name, listening, speaking, reading, writing, total]\n",
    "\n",
    "    except Exception as e:\n",
    "        print(f\"Error: {e}\")\n",
    "        return None\n",
    "\n",
    "data = get_all_score(get_all_id())\n"
   ]
  },
  {
   "cell_type": "markdown",
   "metadata": {},
   "source": [
    "### Analyze the data"
   ]
  },
  {
   "cell_type": "code",
   "execution_count": 41,
   "metadata": {},
   "outputs": [
    {
     "data": {
      "text/html": [
       "<div>\n",
       "<style scoped>\n",
       "    .dataframe tbody tr th:only-of-type {\n",
       "        vertical-align: middle;\n",
       "    }\n",
       "\n",
       "    .dataframe tbody tr th {\n",
       "        vertical-align: top;\n",
       "    }\n",
       "\n",
       "    .dataframe thead th {\n",
       "        text-align: right;\n",
       "    }\n",
       "</style>\n",
       "<table border=\"1\" class=\"dataframe\">\n",
       "  <thead>\n",
       "    <tr style=\"text-align: right;\">\n",
       "      <th></th>\n",
       "      <th>Name</th>\n",
       "      <th>Listening</th>\n",
       "      <th>Speaking</th>\n",
       "      <th>Reading</th>\n",
       "      <th>Writing</th>\n",
       "      <th>Total</th>\n",
       "    </tr>\n",
       "  </thead>\n",
       "  <tbody>\n",
       "    <tr>\n",
       "      <th>0</th>\n",
       "      <td>Trần Tiến Đạt</td>\n",
       "      <td>36</td>\n",
       "      <td>32</td>\n",
       "      <td>30</td>\n",
       "      <td>25</td>\n",
       "      <td>123</td>\n",
       "    </tr>\n",
       "    <tr>\n",
       "      <th>1</th>\n",
       "      <td>Võ Thị Thu Hồng</td>\n",
       "      <td>22</td>\n",
       "      <td>21</td>\n",
       "      <td>11</td>\n",
       "      <td>11</td>\n",
       "      <td>65</td>\n",
       "    </tr>\n",
       "    <tr>\n",
       "      <th>2</th>\n",
       "      <td>Lê Đăng Phan Huy</td>\n",
       "      <td>0</td>\n",
       "      <td>0</td>\n",
       "      <td>0</td>\n",
       "      <td>0</td>\n",
       "      <td>0</td>\n",
       "    </tr>\n",
       "    <tr>\n",
       "      <th>3</th>\n",
       "      <td>Thân Trọng Anh Khoa</td>\n",
       "      <td>40</td>\n",
       "      <td>31</td>\n",
       "      <td>25</td>\n",
       "      <td>32</td>\n",
       "      <td>128</td>\n",
       "    </tr>\n",
       "    <tr>\n",
       "      <th>4</th>\n",
       "      <td>Nguyễn Thanh Kiên</td>\n",
       "      <td>34</td>\n",
       "      <td>28</td>\n",
       "      <td>21</td>\n",
       "      <td>25</td>\n",
       "      <td>108</td>\n",
       "    </tr>\n",
       "    <tr>\n",
       "      <th>...</th>\n",
       "      <td>...</td>\n",
       "      <td>...</td>\n",
       "      <td>...</td>\n",
       "      <td>...</td>\n",
       "      <td>...</td>\n",
       "      <td>...</td>\n",
       "    </tr>\n",
       "    <tr>\n",
       "      <th>143</th>\n",
       "      <td>Phạm Thị Nhị</td>\n",
       "      <td>32</td>\n",
       "      <td>29</td>\n",
       "      <td>32</td>\n",
       "      <td>26</td>\n",
       "      <td>119</td>\n",
       "    </tr>\n",
       "    <tr>\n",
       "      <th>144</th>\n",
       "      <td>Trần Tấn Phát</td>\n",
       "      <td>40</td>\n",
       "      <td>30</td>\n",
       "      <td>31</td>\n",
       "      <td>24</td>\n",
       "      <td>125</td>\n",
       "    </tr>\n",
       "    <tr>\n",
       "      <th>145</th>\n",
       "      <td>Nguyễn Trí Thức</td>\n",
       "      <td>26</td>\n",
       "      <td>13</td>\n",
       "      <td>12</td>\n",
       "      <td>14</td>\n",
       "      <td>65</td>\n",
       "    </tr>\n",
       "    <tr>\n",
       "      <th>146</th>\n",
       "      <td>Trần Phước Thạnh</td>\n",
       "      <td>0</td>\n",
       "      <td>0</td>\n",
       "      <td>0</td>\n",
       "      <td>0</td>\n",
       "      <td>0</td>\n",
       "    </tr>\n",
       "    <tr>\n",
       "      <th>147</th>\n",
       "      <td>Phạm Quốc Thịnh</td>\n",
       "      <td>0</td>\n",
       "      <td>0</td>\n",
       "      <td>0</td>\n",
       "      <td>0</td>\n",
       "      <td>0</td>\n",
       "    </tr>\n",
       "  </tbody>\n",
       "</table>\n",
       "<p>148 rows × 6 columns</p>\n",
       "</div>"
      ],
      "text/plain": [
       "                    Name  Listening  Speaking  Reading  Writing  Total\n",
       "0          Trần Tiến Đạt         36        32       30       25    123\n",
       "1        Võ Thị Thu Hồng         22        21       11       11     65\n",
       "2       Lê Đăng Phan Huy          0         0        0        0      0\n",
       "3    Thân Trọng Anh Khoa         40        31       25       32    128\n",
       "4      Nguyễn Thanh Kiên         34        28       21       25    108\n",
       "..                   ...        ...       ...      ...      ...    ...\n",
       "143         Phạm Thị Nhị         32        29       32       26    119\n",
       "144        Trần Tấn Phát         40        30       31       24    125\n",
       "145      Nguyễn Trí Thức         26        13       12       14     65\n",
       "146     Trần Phước Thạnh          0         0        0        0      0\n",
       "147      Phạm Quốc Thịnh          0         0        0        0      0\n",
       "\n",
       "[148 rows x 6 columns]"
      ]
     },
     "execution_count": 41,
     "metadata": {},
     "output_type": "execute_result"
    }
   ],
   "source": [
    "# Create the dataframe\n",
    "\n",
    "# Replace 'V' with 0\n",
    "modified_data = [[0 if item == 'V' else item for item in row] for row in data if type(row) == list]\n",
    "\n",
    "columns_name = ['Name', 'Listening', 'Speaking', 'Reading', 'Writing', 'Total']\n",
    "score_df = pd.DataFrame(modified_data, columns=columns_name)\n",
    "score_df[['Listening', 'Speaking', 'Reading', 'Writing', 'Total']] = score_df[['Listening', 'Speaking', 'Reading', 'Writing', 'Total']].astype(int)\n",
    "score_df"
   ]
  },
  {
   "cell_type": "code",
   "execution_count": 38,
   "metadata": {},
   "outputs": [
    {
     "name": "stdout",
     "output_type": "stream",
     "text": [
      "Top 7 students in Listening:\n",
      "                       Name  Listening Total\n",
      "45    Đào Ngọc Thảo Nguyên         40   143\n",
      "38       Trịnh Hoàng Khang         40   141\n",
      "95       Nguyễn Quang Vinh         40   140\n",
      "79       Trần Nghiêm Thành         40   139\n",
      "134    Nguyễn Ngọc Gia Huy         40   139\n",
      "39        Nguyễn Nam Khánh         40   136\n",
      "16   Nguyễn Ngọc Tuyết Nhi         40   131\n",
      "\n",
      "Top 7 students in Speaking:\n",
      "                      Name  Speaking Total\n",
      "104        Nguyễn Anh Thư        37   127\n",
      "45   Đào Ngọc Thảo Nguyên        36   143\n",
      "49           Ma Thanh Nhi        36   125\n",
      "120  Nguyễn Vũ Nhật Thành        36   117\n",
      "36       Nguyễn Thị Huyền        35   132\n",
      "27         Phạm Khánh Hân        35   129\n",
      "91       Nguyễn Cao Thắng        35   110\n",
      "\n",
      "Top 7 students in Reading:\n",
      "                       Name  Reading Total\n",
      "38       Trịnh Hoàng Khang       37   141\n",
      "45    Đào Ngọc Thảo Nguyên       36   143\n",
      "95       Nguyễn Quang Vinh       36   140\n",
      "134    Nguyễn Ngọc Gia Huy       35   139\n",
      "48       Nguyễn Trọng Nhân       35   137\n",
      "39        Nguyễn Nam Khánh       35   136\n",
      "16   Nguyễn Ngọc Tuyết Nhi       35   131\n",
      "\n",
      "Top 7 students in Writing:\n",
      "                   Name  Writing Total\n",
      "79   Trần Nghiêm Thành       34   139\n",
      "138       Vũ Đăng Khôi       34   135\n",
      "39    Nguyễn Nam Khánh       33   136\n",
      "130       Tạ Huỳnh Nhi       33   121\n",
      "38   Trịnh Hoàng Khang       32   141\n",
      "139    Lương Thanh Nam       32   136\n",
      "112  Nguyễn Thiện Nhân       32   130\n",
      "\n",
      "Top 7 students in Total score:\n",
      "                     Name  Listening  Speaking  Reading  Writing Total\n",
      "78           Lê Tấn Phát         28        28       21       22    99\n",
      "127   Nguyễn Châu Anh Tú         26        24       22       27    99\n",
      "116        Lâm Minh Quân         24        30       24       20    98\n",
      "12   Trần Lê Trung Nghĩa         30        31       16       21    98\n",
      "140    Lê Hoàng Uyên Thư         30        28       18       20    96\n",
      "125        Bùi Đức Trung         36        21       25       14    96\n",
      "82         Hoàng Thúy Vy         28        26       22       20    96\n"
     ]
    }
   ],
   "source": [
    "top_7_listening = score_df.sort_values(by=['Listening', 'Total'], ascending=[False, False]).head(7)[['Name', 'Listening', 'Total']]\n",
    "top_7_speaking = score_df.sort_values(by=['Speaking', 'Total'], ascending=[False, False]).head(7)[['Name', 'Speaking', 'Total']]\n",
    "top_7_reading = score_df.sort_values(by=['Reading', 'Total'], ascending=[False, False]).head(7)[['Name', 'Reading', 'Total']]\n",
    "top_7_writing = score_df.sort_values(by=['Writing', 'Total'], ascending=[False, False]).head(7)[['Name', 'Writing', 'Total']]\n",
    "top_7_total = score_df.sort_values(by='Total', ascending=False).head(7)\n",
    "# Print results\n",
    "print(\"Top 7 students in Listening:\\n\", top_7_listening)\n",
    "print(\"\\nTop 7 students in Speaking:\\n\", top_7_speaking)\n",
    "print(\"\\nTop 7 students in Reading:\\n\", top_7_reading)\n",
    "print(\"\\nTop 7 students in Writing:\\n\", top_7_writing)\n",
    "print(\"\\nTop 7 students in Total score:\\n\", top_7_total)\n"
   ]
  },
  {
   "cell_type": "code",
   "execution_count": 39,
   "metadata": {},
   "outputs": [
    {
     "name": "stdout",
     "output_type": "stream",
     "text": [
      "<class 'pandas.core.frame.DataFrame'>\n",
      "RangeIndex: 148 entries, 0 to 147\n",
      "Data columns (total 6 columns):\n",
      " #   Column     Non-Null Count  Dtype \n",
      "---  ------     --------------  ----- \n",
      " 0   Name       148 non-null    object\n",
      " 1   Listening  148 non-null    int32 \n",
      " 2   Speaking   148 non-null    int32 \n",
      " 3   Reading    148 non-null    int32 \n",
      " 4   Writing    148 non-null    int32 \n",
      " 5   Total      148 non-null    object\n",
      "dtypes: int32(4), object(2)\n",
      "memory usage: 4.8+ KB\n"
     ]
    }
   ],
   "source": [
    "score_df.info()"
   ]
  },
  {
   "cell_type": "code",
   "execution_count": 42,
   "metadata": {},
   "outputs": [
    {
     "name": "stdout",
     "output_type": "stream",
     "text": [
      "27.74\n",
      "24.24\n",
      "21.05\n",
      "20.70\n",
      "93.74\n"
     ]
    }
   ],
   "source": [
    "avarage_listening = score_df['Listening'].mean()\n",
    "avarage_speaking = score_df['Speaking'].mean()\n",
    "avarage_reading = score_df['Reading'].mean()\n",
    "avarage_writing = score_df['Writing'].mean()\n",
    "avarage_total = score_df['Total'].mean()\n",
    "print(f'{avarage_listening:.2f}')\n",
    "print(f'{avarage_speaking:.2f}')\n",
    "print(f'{avarage_reading:.2f}')\n",
    "print(f'{avarage_writing:.2f}')\n",
    "print(f'{avarage_total:.2f}')"
   ]
  },
  {
   "cell_type": "code",
   "execution_count": 43,
   "metadata": {},
   "outputs": [
    {
     "data": {
      "text/plain": [
       "<matplotlib.legend.Legend at 0x1f98a3547f0>"
      ]
     },
     "execution_count": 43,
     "metadata": {},
     "output_type": "execute_result"
    },
    {
     "data": {
      "image/png": "[encoded data removed]",
      "text/plain": [
       "<Figure size 1200x800 with 4 Axes>"
      ]
     },
     "metadata": {},
     "output_type": "display_data"
    }
   ],
   "source": [
    "plt.figure(figsize=(12, 8))\n",
    "plt.suptitle(\"Score distribution for each skill\", fontsize=25, y=1)\n",
    "\n",
    "plt.subplot(2, 2, 1)\n",
    "plt.hist(score_df['Listening'], bins=20, color='blue', label='Listening')\n",
    "plt.legend(fontsize='large') \n",
    "plt.xlim(0, 40)\n",
    "\n",
    "plt.subplot(2, 2, 2)\n",
    "plt.hist(score_df['Speaking'], bins=20, color='red', label='Speaking')\n",
    "plt.xlim(0, 40)\n",
    "plt.legend(fontsize='large')\n",
    "\n",
    "plt.subplot(2, 2, 3)\n",
    "plt.hist(score_df['Reading'], bins=20, color='green', label='Reading')\n",
    "plt.xlim(0, 40)\n",
    "plt.legend(fontsize='large')\n",
    "\n",
    "plt.subplot(2, 2, 4)\n",
    "plt.hist(score_df['Writing'], bins=20, color='purple', label='Writing')\n",
    "plt.xlim(0, 40)\n",
    "plt.legend(fontsize='large')\n",
    "\n",
    "# plt.savefig('Score distribution 4 skills.png', dpi=300, bbox_inches='tight')"
   ]
  },
  {
   "cell_type": "code",
   "execution_count": 44,
   "metadata": {},
   "outputs": [
    {
     "data": {
      "text/plain": [
       "(0.0, 160.0)"
      ]
     },
     "execution_count": 44,
     "metadata": {},
     "output_type": "execute_result"
    },
    {
     "data": {
      "image/png": "[encoded data removed]",
      "text/plain": [
       "<Figure size 1200x800 with 1 Axes>"
      ]
     },
     "metadata": {},
     "output_type": "display_data"
    }
   ],
   "source": [
    "plt.figure(figsize=(12, 8))\n",
    "plt.title('Total score distribution', fontsize=25, y=1)\n",
    "plt.hist(score_df['Total'], bins=40, label='Total score')\n",
    "plt.legend(fontsize=20)\n",
    "plt.xlim([0, 160])\n",
    "# plt.savefig('Total score distribution.png', dpi=300, bbox_inches='tight')"
   ]
  }
 ],
 "metadata": {
  "kernelspec": {
   "display_name": "AIO310",
   "language": "python",
   "name": "python3"
  },
  "language_info": {
   "codemirror_mode": {
    "name": "ipython",
    "version": 3
   },
   "file_extension": ".py",
   "mimetype": "text/x-python",
   "name": "python",
   "nbconvert_exporter": "python",
   "pygments_lexer": "ipython3",
   "version": "3.10.14"
  }
 },
 "nbformat": 4,
 "nbformat_minor": 2
}
